{
 "cells": [
  {
   "cell_type": "code",
   "execution_count": null,
   "metadata": {},
   "outputs": [],
   "source": [
    "import pandas as pd\n",
    "import numpy as np\n",
    "import scipy.stats as stats\n",
    "import matplotlib.pyplot as plt\n",
    "import seaborn as sns\n",
    "\n",
    "# Load the dataset - point here to your folder where the dataset is \n",
    "df = pd.read_csv('amz_uk_price_prediction_dataset.csv')"
   ]
  },
  {
   "cell_type": "code",
   "execution_count": null,
   "metadata": {},
   "outputs": [],
   "source": [
    "df.head()"
   ]
  },
  {
   "cell_type": "code",
   "execution_count": null,
   "metadata": {},
   "outputs": [],
   "source": [
    "df.shape()"
   ]
  },
  {
   "cell_type": "code",
   "execution_count": null,
   "metadata": {},
   "outputs": [],
   "source": [
    "# Calculate IQR for the price column\n",
    "Q1 = df['price'].quantile(0.25)\n",
    "Q3 = df['price'].quantile(0.75)\n",
    "IQR = Q3 - Q1\n",
    "\n",
    "# Define bounds for outliers\n",
    "lower_bound = Q1 - 1.5 * IQR\n",
    "upper_bound = Q3 + 1.5 * IQR\n",
    "\n",
    "# Filter out outliers\n",
    "df_no_outliers = df[(df['price'] >= lower_bound) & (df['price'] <= upper_bound)]\n",
    "\n",
    "# Check the shape of the data after removing outliers\n",
    "df_no_outliers.shape"
   ]
  },
  {
   "cell_type": "code",
   "execution_count": 1,
   "id": "eb3f1e98-862d-48b3-bffa-88f01c2b65eb",
   "metadata": {
    "tags": []
   },
   "outputs": [],
   "source": [
    "#Part 1: \n",
    "# Create a crosstab between category and isBestSeller status\n",
    "crosstab_best_seller_category = pd.crosstab(df_no_outliers['category'], df_no_outliers['isBestSeller'])\n",
    "crosstab_best_seller_category_prop = crosstab_best_seller_category.copy()"
   ]
  },
  {
   "cell_type": "code",
   "execution_count": null,
   "id": "ac681c72-d389-4671-8f23-c81ed77d900a",
   "metadata": {},
   "outputs": [],
   "source": [
    "# Calculate the proportion of best-sellers for each category\n",
    "crosstab_best_seller_category_prop['best_seller_proportion'] = crosstab_best_seller_category[True] / (crosstab_best_seller_category[True] + crosstab_best_seller_category[False])\n",
    "\n",
    "# Sort categories based on best-seller proportion in descending order\n",
    "sorted_categories_by_best_seller_proportion = crosstab_best_seller_category_prop.sort_values(by='best_seller_proportion', ascending=False)\n",
    "\n",
    "# Display the sorted categories\n",
    "sorted_categories_by_best_seller_proportion[['best_seller_proportion']]\n"
   ]
  },
  {
   "cell_type": "markdown",
   "metadata": {},
   "source": [
    "The categories with the highest proportions of best-sellers are:\n",
    "\n",
    "- Smart Home Security & Lighting: 6.41%\n",
    "- Wind Instruments: 5.93%\n",
    "- Grocery: 5.81%\n",
    "- Health & Personal Car: 5.7%\n",
    "- Material Handling Products: 4.81%\n",
    "\n",
    "On the other end of the spectrum, there are several categories where no products have the best-seller status."
   ]
  },
  {
   "cell_type": "code",
   "execution_count": 2,
   "id": "97e584b9-ebff-47f1-af76-2df9e6059af0",
   "metadata": {
    "tags": []
   },
   "outputs": [],
   "source": [
    "#2.\n",
    "\n",
    "from scipy.stats import chi2_contingency\n",
    "\n",
    "# Conducting the Chi-square test\n",
    "chi2, p, _, _ = chi2_contingency(crosstab_best_seller_category)\n",
    "\n",
    "chi2, p\n",
    "\n",
    "\n",
    "from scipy.stats.contingency import association\n",
    "\n",
    "# Computing the association between variables in 'crosstab_result' using the \"cramer\" method\n",
    "association(crosstab_best_seller_category, method=\"cramer\")\n"
   ]
  },
  {
   "cell_type": "markdown",
   "metadata": {},
   "source": [
    "Given the extremely low \\( p \\)-value (essentially zero), we can reject the null hypothesis. This indicates that there is a significant association between the product category and its best-seller status.\n",
    "\n",
    "The value of Cramér's V is approximately \\(0.12\\).\n",
    "\n",
    "Cramér's V values can be interpreted as follows:\n",
    "- \\(0\\): No association\n",
    "- \\(0.1\\): Weak association\n",
    "- \\(0.2\\): Moderate association\n",
    "- \\(0.3\\): Relatively strong association\n",
    "- \\(1\\): Perfect association\n",
    "\n",
    "Given our result, the strength of association between product category and best-seller status is weak.\n"
   ]
  },
  {
   "cell_type": "code",
   "execution_count": 3,
   "id": "739b7fd3-0aea-467d-831a-061039f83bcb",
   "metadata": {
    "tags": []
   },
   "outputs": [],
   "source": [
    "#3.\n",
    "# Correcting the plotting for top 10 categories with highest best-seller proportions\n",
    "top_categories = sorted_categories_by_best_seller_proportion.iloc[:10, :]\n",
    "\n",
    "# Plotting the stacked bar chart\n",
    "top_categories.plot(kind='bar', stacked=True, figsize=(12, 6))\n"
   ]
  },
  {
   "cell_type": "code",
   "execution_count": null,
   "id": "92a8d0f4-c5c3-4ca8-9a6d-c701c9b6611b",
   "metadata": {},
   "outputs": [],
   "source": [
    "#part 2:\n",
    "#1.\n",
    "import seaborn as sns\n",
    "import matplotlib.pyplot as plt\n",
    "\n",
    "# Assuming df is your DataFrame containing the relevant columns\n",
    "\n",
    "# Filter out the top 20 categories based on count\n",
    "top_20_categories = df_no_outliers['category'].value_counts().nlargest(20).index\n",
    "filtered_data = df_no_outliers[df_no_outliers['category'].isin(top_20_categories)]\n",
    "\n",
    "# Create a violin plot to visualize the distribution of 'price' across different product 'categories'\n",
    "plt.figure(figsize=(14, 10))\n",
    "sns.violinplot(x='category', y='price', data=filtered_data)\n",
    "plt.title('Distribution of Product Prices Across Top 20 Categories')\n",
    "plt.xticks(rotation=45, ha='right')\n",
    "plt.show()\n",
    "\n",
    "# Identifying the category with the highest median price\n",
    "category_highest_median = df_no_outliers.groupby('category')['price'].median().idxmax()\n",
    "highest_median_price = df_no_outliers.groupby('category')['price'].median().max()\n",
    "\n",
    "category_highest_median, highest_median_price\n"
   ]
  },
  {
   "cell_type": "code",
   "execution_count": null,
   "id": "f5c97dff-c2ea-48f5-ab5a-e3eb27e8bce3",
   "metadata": {},
   "outputs": [],
   "source": [
    "#2.\n",
    "\n",
    "# Calculate average price for each category\n",
    "average_price_by_category = df_no_outliers.groupby('category')['price'].mean()\n",
    "\n",
    "# Select top 10 categories based on product count\n",
    "top_10_categories = df_no_outliers['category'].value_counts().nlargest(10).index\n",
    "filtered_avg_price_category = average_price_by_category.loc[top_10_categories]\n",
    "\n",
    "# Calculate the average price for each of the top 10 categories\n",
    "average_prices = df_top_10.groupby('category')['price'].mean().sort_values(ascending=False)\n",
    "\n",
    "# Plotting the bar chart\n",
    "plt.figure(figsize=(12, 6))\n",
    "filtered_avg_price_category.sort_values(ascending=False).plot(kind='bar', color='coral')\n",
    "plt.title('Average Product Price for Top 10 Categories')\n",
    "plt.ylabel('Average Price (£)')\n",
    "plt.xlabel('Product Category')\n",
    "plt.xticks(rotation=45, ha='right')\n",
    "plt.tight_layout()\n",
    "plt.show()\n",
    "\n",
    "# Identifying the category with the highest average price\n",
    "category_highest_avg_price = df_no_outliers.groupby('category')['price'].mean().idxmax()\n",
    "highest_avg_price_category = df_no_outliers.groupby('category')['price'].mean().max()\n",
    "\n",
    "category_highest_avg_price, highest_avg_price_category\n"
   ]
  },
  {
   "cell_type": "code",
   "execution_count": null,
   "id": "35157bea-ff1a-488f-93e9-93c9a3727ab8",
   "metadata": {},
   "outputs": [],
   "source": [
    "#3.\n",
    "\n",
    "# Filtering out top 10 categories based on count for better visualization\n",
    "top_10_categories = df_no_outliers['category'].value_counts().nlargest(10).index\n",
    "filtered_data = df_no_outliers[df_no_outliers['category'].isin(top_10_categories)]\n",
    "\n",
    "# Visualize the distribution of product ratings based on their category using box plots\n",
    "plt.figure(figsize=(14, 10))\n",
    "sns.boxplot(x='category', y='stars', data=filtered_data)\n",
    "plt.title('Distribution of Product Ratings Across Categories')\n",
    "plt.ylabel('Product Rating (Stars)')\n",
    "plt.xlabel('Product Category')\n",
    "plt.xticks(rotation=45, ha='right')\n",
    "plt.tight_layout()\n",
    "plt.show()\n",
    "\n",
    "# Identify the category with the highest median rating\n",
    "category_highest_median_rating = df_no_outliers.groupby('category')['stars'].median().idxmax()\n",
    "highest_median_rating = df_no_outliers.groupby('category')['stars'].median().max()\n",
    "\n",
    "category_highest_median_rating, highest_median_rating"
   ]
  },
  {
   "cell_type": "code",
   "execution_count": null,
   "id": "f63031cd-bd68-409d-a660-47689dbdfddd",
   "metadata": {},
   "outputs": [],
   "source": [
    "#Part 3: 1. \n",
    "\n",
    "# Calculate the correlation coefficient between price and rating\n",
    "correlation_price_rating = df_no_outliers['price'].corr(df_no_outliers['reviews'])\n",
    "\n",
    "correlation_price_rating\n",
    "\n",
    "\n",
    "\n",
    "# Calculate the correlation coefficient between price and rating\n",
    "correlation_price_rating = df_no_outliers['price'].corr(df_no_outliers['reviews'], method='spearman')\n",
    "\n",
    "correlation_price_rating"
   ]
  },
  {
   "cell_type": "markdown",
   "metadata": {},
   "source": [
    "This value is close to zero, indicating a very weak negative correlation between product price and the number of reviews.\n",
    "\n",
    "Practically, this suggests that the price of a product and the number of reviews it has are largely independent of each other, with only a slight negative trend."
   ]
  },
  {
   "cell_type": "code",
   "execution_count": null,
   "id": "bcfc3d4d-0ff7-41ed-bd60-144329c6987b",
   "metadata": {},
   "outputs": [],
   "source": [
    "#2.\n",
    "# Scatter plot to visualize the relationship between product reviews and price\n",
    "plt.figure(figsize=(12, 6))\n",
    "sns.scatterplot(x=df_no_outliers['reviews'], y=df_no_outliers['price'], alpha=0.5)\n",
    "plt.title('Relationship Between Product Rating and Price')\n",
    "plt.tight_layout()\n",
    "plt.show()\n"
   ]
  },
  {
   "cell_type": "markdown",
   "metadata": {},
   "source": [
    "Here's the scatter plot showcasing the relationship between the number of reviews and product price:\n",
    "\n",
    "- The majority of products have fewer reviews and are clustered towards the left side of the plot.\n",
    "- There doesn't seem to be a strong trend indicating that products with higher prices receive more or fewer reviews. The data points are dispersed without a clear pattern.\n",
    "- Some products with a higher number of reviews are in the lower to mid-price range, suggesting that these products might be popular or widely purchased."
   ]
  },
  {
   "cell_type": "code",
   "execution_count": null,
   "metadata": {},
   "outputs": [],
   "source": [
    "# Correlation heatmap\n",
    "correlation_matrix = df_no_outliers['price', 'reviews', 'stars'].corr()\n",
    "plt.figure(figsize=(8, 6))\n",
    "sns.heatmap(correlation_matrix, annot=True, cmap=\"coolwarm\", vmin=-1, vmax=1)\n",
    "plt.title(\"Correlation Heatmap\")\n",
    "plt.show()"
   ]
  },
  {
   "cell_type": "markdown",
   "metadata": {},
   "source": [
    "**Correlation Heatmap**:\n",
    "   - The heatmap provides a visual representation of the correlation between numerical variables.\n",
    "   \n",
    "   If we talk about continous variables...\n",
    "   - As we discussed earlier, the correlation between `price` and `reviews` is very weak. The correlation between `price` and `stars` (product rating) is also weak and negative, as indicated by the slightly blue shade.\n",
    "   - The correlation between `reviews` and `stars` is positive but still weak, suggesting that products with more reviews don't necessarily have higher or lower ratings."
   ]
  },
  {
   "cell_type": "code",
   "execution_count": null,
   "metadata": {},
   "outputs": [],
   "source": [
    "# QQ plot for product prices\n",
    "plt.figure(figsize=(8, 6))\n",
    "stats.probplot(df_no_outliers['price'], dist=\"norm\", plot=plt)\n",
    "plt.title(\"QQ Plot for Product Prices\")\n",
    "plt.show()"
   ]
  },
  {
   "cell_type": "markdown",
   "metadata": {},
   "source": [
    "**QQ Plot for Product Prices**:\n",
    "   - A QQ (quantile-quantile) plot is used to compare the distribution of a dataset with a theoretical normal distribution.\n",
    "   - If the data points in the QQ plot closely follow the straight line (which represents the normal distribution), then the dataset is approximately normally distributed.\n",
    "   - In this case, the QQ plot indicates that product prices are not  normally distributed."
   ]
  }
 ],
 "metadata": {
  "kernelspec": {
   "display_name": "Python 3 (ipykernel)",
   "language": "python",
   "name": "python3"
  },
  "language_info": {
   "codemirror_mode": {
    "name": "ipython",
    "version": 3
   },
   "file_extension": ".py",
   "mimetype": "text/x-python",
   "name": "python",
   "nbconvert_exporter": "python",
   "pygments_lexer": "ipython3",
   "version": "3.11.5"
  }
 },
 "nbformat": 4,
 "nbformat_minor": 5
}
